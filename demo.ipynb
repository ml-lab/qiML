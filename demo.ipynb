{
 "cells": [
  {
   "cell_type": "code",
   "execution_count": 1,
   "metadata": {},
   "outputs": [],
   "source": [
    "import numpy as np\n",
    "import qiML\n",
    "import matplotlib.pyplot as plt\n",
    "%matplotlib inline"
   ]
  },
  {
   "cell_type": "code",
   "execution_count": 2,
   "metadata": {},
   "outputs": [
    {
     "name": "stdout",
     "output_type": "stream",
     "text": [
      "SVD ppMt\n",
      "Orthomalization\n"
     ]
    }
   ],
   "source": [
    "####\n",
    "#### qiSVD\n",
    "\n",
    "# parameters ----------\n",
    "k = 500  # The number of components\n",
    "p = 600  # The number of iterations for tree-sampling\n",
    "# parameters ----------\n",
    "\n",
    "M = 5000 # The number of samples\n",
    "N = 5000 # The number of features\n",
    "rank = 100\n",
    "\n",
    "# Prepare input matrix A\n",
    "A1 = np.random.randn(M, rank)\n",
    "A2 = np.random.randn(rank, N)\n",
    "A = np.dot(A1, A2)\n",
    "\n",
    "# Perform qiSVD on A:  A is (M x N)\n",
    "# normalizeData : defalt is 'False'\n",
    "U, s, Vh = qiML.qiSVD(A, k, p, normalizeData=True)"
   ]
  },
  {
   "cell_type": "code",
   "execution_count": 7,
   "metadata": {},
   "outputs": [
    {
     "name": "stdout",
     "output_type": "stream",
     "text": [
      "Get fitResult ...\n",
      "Performing qiSVD on X\n",
      "SVD ppMt\n",
      "Orthomalization\n",
      "Performing qiSVD on Y\n",
      "SVD ppMt\n",
      "Orthomalization\n",
      "Get x_scores and y_scores ...\n",
      "Performing qiSVD on X\n",
      "SVD ppMt\n",
      "Orthomalization\n",
      "Performing qiSVD on Y\n",
      "SVD ppMt\n",
      "Orthomalization\n"
     ]
    },
    {
     "data": {
      "text/plain": [
       "Text(0.5, 1.0, 'Fitting results of CCA: rank=10')"
      ]
     },
     "execution_count": 7,
     "metadata": {},
     "output_type": "execute_result"
    },
    {
     "data": {
      "image/png": "[encoded data removed]",
      "text/plain": [
       "<Figure size 432x288 with 1 Axes>"
      ]
     },
     "metadata": {
      "needs_background": "light"
     },
     "output_type": "display_data"
    }
   ],
   "source": [
    "####\n",
    "#### qiCCA\n",
    "\n",
    "# parameters ----------\n",
    "k = 50  # The number of components\n",
    "p = 120  # The number of iterations for tree-sampling\n",
    "noise_coef = 0.5\n",
    "# parameters ----------\n",
    "\n",
    "M = 5000 # The number of samples\n",
    "Nx = 5000 # The number of features for X\n",
    "Ny = 3000 # The number of features for Y\n",
    "rank = 10\n",
    "\n",
    "# Prepare a pair of input data X, Y\n",
    "Z = np.random.randn(M, rank)\n",
    "Zx  = np.random.randn(rank, Nx)\n",
    "Zy  = np.random.randn(rank, Ny)\n",
    "X = np.dot(Z, Zx) + noise_coef* np.random.randn(M, Nx)\n",
    "Y = np.dot(Z, Zy) + noise_coef* np.random.randn(M, Ny)\n",
    "\n",
    "# Perform qiCCA on X, Y\n",
    "# normalizeData : defalt is 'False'\n",
    "print('Get fitResult ...')\n",
    "fitResult = qiML.qiCCA(k_x=100, k_y=100, k=k, p=p, normalizeData=True).fit(X, Y)\n",
    "print('Get x_scores and y_scores ...')\n",
    "x_scores, y_scores = qiML.qiCCA(k_x=100, k_y=100, k=k, p=p, normalizeData=True).fit_transform(X, Y)\n",
    "\n",
    "# To obtain scores for newX and newY , run the following command\n",
    "# new_x_scores, new_y_scores = qiML.qiCCA(k_x=100, k_y=100, k=k, p=p, normalizeData=True).fit(X, Y).transform(newX, newY)\n",
    "\n",
    "# figure\n",
    "plt.figure()\n",
    "plt.plot(fitResult.corrcoefs)\n",
    "plt.ylabel('correlation coefficients')\n",
    "plt.xlabel('components (k)')\n",
    "plt.title('Fitting results of CCA: rank={:d}'.format(rank))\n",
    "# plt.show()"
   ]
  }
 ],
 "metadata": {
  "kernelspec": {
   "display_name": "Python 3",
   "language": "python",
   "name": "python3"
  },
  "language_info": {
   "codemirror_mode": {
    "name": "ipython",
    "version": 3
   },
   "file_extension": ".py",
   "mimetype": "text/x-python",
   "name": "python",
   "nbconvert_exporter": "python",
   "pygments_lexer": "ipython3",
   "version": "3.5.1"
  }
 },
 "nbformat": 4,
 "nbformat_minor": 2
}
